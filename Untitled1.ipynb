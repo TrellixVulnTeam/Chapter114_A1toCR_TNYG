{
 "cells": [
  {
   "cell_type": "code",
   "execution_count": 2,
   "id": "677ad091",
   "metadata": {},
   "outputs": [],
   "source": [
    "class Queue2Stacks:\n",
    "    def __init__(self):\n",
    "        self.stack1 = []\n",
    "        self.stack2 = []\n",
    "        \n",
    "    def invert(self):\n",
    "        if self.stack1:\n",
    "            while self.stack1:\n",
    "                item = self.stack1.pop()\n",
    "                self.stack2.append(item)\n",
    "        \n",
    "    def enqueue(self, element):\n",
    "        self.stack1.append(element)\n",
    "        \n",
    "    def dequeue(self):\n",
    "        self.invert()\n",
    "        return self.stack2.pop()\n",
    "              \n",
    "            \n",
    "        \n",
    "def main():\n",
    "    my_queue = Queue2Stacks()\n",
    "    data = 'MA'\n",
    "    for char in data:\n",
    "        my_queue.enqueue(char)\n",
    "    my_string = ''\n",
    "    while my_queue.stack2:\n",
    "        my_string += my_queue.dequeue()\n",
    "    print(my_string)\n"
   ]
  },
  {
   "cell_type": "code",
   "execution_count": 5,
   "id": "758ce146",
   "metadata": {},
   "outputs": [
    {
     "name": "stdout",
     "output_type": "stream",
     "text": [
      "\n"
     ]
    }
   ],
   "source": [
    "main()"
   ]
  },
  {
   "cell_type": "code",
   "execution_count": 10,
   "id": "b224fe03",
   "metadata": {},
   "outputs": [],
   "source": [
    "def fact(n):\n",
    "    if n == 0:\n",
    "        return 1\n",
    "    return n*fact(n-1)\n"
   ]
  },
  {
   "cell_type": "code",
   "execution_count": 11,
   "id": "9d3694d3",
   "metadata": {},
   "outputs": [
    {
     "data": {
      "text/plain": [
       "3628800"
      ]
     },
     "execution_count": 11,
     "metadata": {},
     "output_type": "execute_result"
    }
   ],
   "source": [
    "fact(10)"
   ]
  },
  {
   "cell_type": "code",
   "execution_count": 12,
   "id": "3372dc17",
   "metadata": {},
   "outputs": [
    {
     "data": {
      "text/plain": [
       "120"
      ]
     },
     "execution_count": 12,
     "metadata": {},
     "output_type": "execute_result"
    }
   ],
   "source": [
    "fact(5)"
   ]
  },
  {
   "cell_type": "code",
   "execution_count": 13,
   "id": "4c3c03e0",
   "metadata": {},
   "outputs": [],
   "source": [
    "def fib(n):\n",
    "    if n < 2: #base case\n",
    "        return n\n",
    "    return fib(n-1) + fib(n-2)"
   ]
  },
  {
   "cell_type": "code",
   "execution_count": 14,
   "id": "e8f535c8",
   "metadata": {},
   "outputs": [
    {
     "data": {
      "text/plain": [
       "5"
      ]
     },
     "execution_count": 14,
     "metadata": {},
     "output_type": "execute_result"
    }
   ],
   "source": [
    "fib(5)"
   ]
  },
  {
   "cell_type": "code",
   "execution_count": 15,
   "id": "52e2e46e",
   "metadata": {},
   "outputs": [
    {
     "data": {
      "text/plain": [
       "55"
      ]
     },
     "execution_count": 15,
     "metadata": {},
     "output_type": "execute_result"
    }
   ],
   "source": [
    "fib(10)"
   ]
  },
  {
   "cell_type": "code",
   "execution_count": 16,
   "id": "82cbc013",
   "metadata": {},
   "outputs": [
    {
     "data": {
      "text/plain": [
       "610"
      ]
     },
     "execution_count": 16,
     "metadata": {},
     "output_type": "execute_result"
    }
   ],
   "source": [
    "fib(15)"
   ]
  },
  {
   "cell_type": "code",
   "execution_count": null,
   "id": "44c7705d",
   "metadata": {},
   "outputs": [],
   "source": [
    "def func_lin(lst):\n",
    "    \"\"\"\"\"\n",
    "    Prints pairs for every items \n",
    "    \n",
    "    \"\"\"\"\"\n",
    "    \n",
    "    for item_1 in 1st:\n",
    "        for item_2 in 1st:\n",
    "            print(item_1, item_2)\n",
    "            \n",
    "1st = [0. 1. 2. 3]\n",
    "\n",
    "func_quad(1st)"
   ]
  }
 ],
 "metadata": {
  "kernelspec": {
   "display_name": "Python 3",
   "language": "python",
   "name": "python3"
  },
  "language_info": {
   "codemirror_mode": {
    "name": "ipython",
    "version": 3
   },
   "file_extension": ".py",
   "mimetype": "text/x-python",
   "name": "python",
   "nbconvert_exporter": "python",
   "pygments_lexer": "ipython3",
   "version": "3.8.5"
  }
 },
 "nbformat": 4,
 "nbformat_minor": 5
}
