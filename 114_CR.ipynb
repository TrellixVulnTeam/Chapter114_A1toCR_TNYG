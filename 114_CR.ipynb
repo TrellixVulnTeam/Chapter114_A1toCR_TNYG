{
 "cells": [
  {
   "cell_type": "code",
   "execution_count": 2,
   "id": "6151fa82",
   "metadata": {},
   "outputs": [
    {
     "name": "stdout",
     "output_type": "stream",
     "text": [
      "h\n",
      "e\n",
      "l\n",
      "l\n",
      "o\n",
      ",\n",
      " \n",
      "w\n",
      "o\n",
      "r\n",
      "l\n",
      "d\n"
     ]
    }
   ],
   "source": [
    "for letter in \"hello, world\":\n",
    "    print (letter)\n"
   ]
  },
  {
   "cell_type": "code",
   "execution_count": 2,
   "id": "313071b7",
   "metadata": {},
   "outputs": [],
   "source": [
    "def is_anagram(string_a, string_b):\n",
    "    if len(string_a) != len(string_b):\n",
    "        return False\n",
    "    char_times_a = dict()\n",
    "    char_times_b = dict()\n",
    "    for i in range(len(string_a)):\n",
    "        if string_a[i] not in char_times_a.keys():\n",
    "            char_times_a[string_a[i]] = 0\n",
    "        else:\n",
    "            char_times_a[string_a[i]] += 1\n",
    "        if string_b[i] not in char_times_b.keys():\n",
    "            char_times_b[string_b[i]] = 0\n",
    "        else:\n",
    "            char_times_b[string_b[i]] += 1\n",
    "    return char_times_a == char_times_b\n",
    "        "
   ]
  },
  {
   "cell_type": "code",
   "execution_count": 3,
   "id": "28f75d79",
   "metadata": {},
   "outputs": [
    {
     "data": {
      "text/plain": [
       "True"
      ]
     },
     "execution_count": 3,
     "metadata": {},
     "output_type": "execute_result"
    }
   ],
   "source": [
    "is_anagram(\"cars\", \"scar\")"
   ]
  },
  {
   "cell_type": "code",
   "execution_count": 4,
   "id": "27ec9e2a",
   "metadata": {},
   "outputs": [
    {
     "data": {
      "text/plain": [
       "False"
      ]
     },
     "execution_count": 4,
     "metadata": {},
     "output_type": "execute_result"
    }
   ],
   "source": [
    "is_anagram(\"sccr\", \"scar\")"
   ]
  },
  {
   "cell_type": "code",
   "execution_count": 5,
   "id": "08817d5c",
   "metadata": {},
   "outputs": [
    {
     "data": {
      "text/plain": [
       "False"
      ]
     },
     "execution_count": 5,
     "metadata": {},
     "output_type": "execute_result"
    }
   ],
   "source": [
    "is_anagram(\" Iam lord volderMoRT\", \"Tom Marv oloRIddle\")"
   ]
  },
  {
   "cell_type": "code",
   "execution_count": 6,
   "id": "e3ddd2a7",
   "metadata": {},
   "outputs": [
    {
     "data": {
      "text/plain": [
       "False"
      ]
     },
     "execution_count": 6,
     "metadata": {},
     "output_type": "execute_result"
    }
   ],
   "source": [
    "is_anagram(\" iam loRd volderMorT\", \"Tom Marvolo Riddle\")"
   ]
  },
  {
   "cell_type": "code",
   "execution_count": 7,
   "id": "842c525b",
   "metadata": {},
   "outputs": [
    {
     "data": {
      "text/plain": [
       "True"
      ]
     },
     "execution_count": 7,
     "metadata": {},
     "output_type": "execute_result"
    }
   ],
   "source": [
    "is_anagram(\"Iam LoRdVol deMorT\", \"Tom MarVoLo RIddle\")"
   ]
  },
  {
   "cell_type": "code",
   "execution_count": 9,
   "id": "26c018e8",
   "metadata": {},
   "outputs": [
    {
     "data": {
      "text/plain": [
       "False"
      ]
     },
     "execution_count": 9,
     "metadata": {},
     "output_type": "execute_result"
    }
   ],
   "source": [
    "is_anagram(\"Iam LoRdVol deMorT\", \"Tom Marvolo Riddle\")"
   ]
  },
  {
   "cell_type": "code",
   "execution_count": 15,
   "id": "dfe1db8a",
   "metadata": {},
   "outputs": [
    {
     "data": {
      "text/plain": [
       "False"
      ]
     },
     "execution_count": 15,
     "metadata": {},
     "output_type": "execute_result"
    }
   ],
   "source": [
    "is_anagram(\"iam lord voldermort\", \"tom marv oloriddle\")"
   ]
  },
  {
   "cell_type": "code",
   "execution_count": 3,
   "id": "0ef8d5fc",
   "metadata": {},
   "outputs": [],
   "source": [
    "class Stack:\n",
    "    def __init__(self):\n",
    "        self.items = []\n",
    "        \n",
    "    def is_empty(self):\n",
    "        return self.items == []\n",
    "        \n",
    "    def push(self, item):\n",
    "        self.items.append(item)\n",
    "        \n",
    "    def pop(self):\n",
    "        return self.items.pop()\n",
    "    \n",
    "    def peek(self):\n",
    "        return self.items[lens(self.items)-1]\n",
    "    \n",
    "    def size(self):\n",
    "        return len(self.items)\n",
    "        \n",
    "        \n",
    "        "
   ]
  },
  {
   "cell_type": "code",
   "execution_count": 9,
   "id": "71b6c077",
   "metadata": {},
   "outputs": [],
   "source": [
    "def reverse_str(s):\n",
    "    stack = Stack()\n",
    "    for char in s:\n",
    "        stack.push(char)\n",
    "    tempstr = \"\"\n",
    "    while not stack.is_empty():\n",
    "        tempstr += stack.pop()\n",
    "    return tempstr"
   ]
  },
  {
   "cell_type": "code",
   "execution_count": 12,
   "id": "7e9836af",
   "metadata": {},
   "outputs": [],
   "source": [
    "def test_reverse_str():\n",
    "    assert reverse_str(\"racecar\") == reverse_str(\"racecar\")\n",
    "    assert reverse_str(\"SDGKU\") == reverse_str(\"UKGDS\")\n",
    "    assert reverse_str(\"ping pong\") == reverse_str(\"qnop qnip\")"
   ]
  },
  {
   "cell_type": "code",
   "execution_count": 32,
   "id": "7f67312a",
   "metadata": {},
   "outputs": [],
   "source": [
    "class Queue: \n",
    "    def __init__(self):\n",
    "        self.items = []\n",
    "        \n",
    "    def is_empty(self):\n",
    "        return self.items == []\n",
    "    \n",
    "    def enqueue(self, item):\n",
    "        self.items.insert(0, item)\n",
    "        \n",
    "    def dequeue(self):\n",
    "        return self.items.pop()\n",
    "    \n",
    "    def size(self):\n",
    "        return len(self.items)\n",
    "        \n",
    "    "
   ]
  },
  {
   "cell_type": "code",
   "execution_count": 33,
   "id": "cc521d14",
   "metadata": {},
   "outputs": [
    {
     "data": {
      "text/plain": [
       "7"
      ]
     },
     "execution_count": 33,
     "metadata": {},
     "output_type": "execute_result"
    }
   ],
   "source": [
    "from random import randint\n",
    "randint(5, 10)"
   ]
  },
  {
   "cell_type": "code",
   "execution_count": 34,
   "id": "2feb7cd6",
   "metadata": {},
   "outputs": [],
   "source": [
    "from string import ascii_lowercase\n",
    "from random import randint, choice\n",
    "from time import sleep\n",
    "\n",
    "def register_visitors(visitor_queue):\n",
    "    for char in ascii_lowercase:\n",
    "        visitor_queue.enqueue(char)\n",
    "    \n",
    "def service_customers(visitor_queue):\n",
    "    bank_tellers = [\"A\", \"B\", \"C\", \"D\", \"E\", \"F\", \"G\"]\n",
    "    while not visitor_queue.is_empty():\n",
    "        visitor = visitor_queue.dequeue()\n",
    "        print(\"Thank you for waiting %s, station %s is reday for you.\"\n",
    "              % (visitor, choice(bank_tellers)))\n",
    "        sleep(randint(1, 2))\n",
    "    print(\"Empty visitor queue.\")\n",
    "    \n",
    "def main():\n",
    "    visitor_queue = Queue()\n",
    "    register_visitors(visitor_queue)\n",
    "    service_customers(visitor_queue)\n",
    "    \n",
    "    "
   ]
  },
  {
   "cell_type": "code",
   "execution_count": 35,
   "id": "100da86d",
   "metadata": {
    "scrolled": true
   },
   "outputs": [
    {
     "name": "stdout",
     "output_type": "stream",
     "text": [
      "Thank you for waiting a, station F is reday for you.\n",
      "Thank you for waiting b, station F is reday for you.\n",
      "Thank you for waiting c, station A is reday for you.\n",
      "Thank you for waiting d, station E is reday for you.\n",
      "Thank you for waiting e, station C is reday for you.\n",
      "Thank you for waiting f, station D is reday for you.\n",
      "Thank you for waiting g, station B is reday for you.\n",
      "Thank you for waiting h, station B is reday for you.\n",
      "Thank you for waiting i, station E is reday for you.\n",
      "Thank you for waiting j, station B is reday for you.\n",
      "Thank you for waiting k, station C is reday for you.\n",
      "Thank you for waiting l, station D is reday for you.\n",
      "Thank you for waiting m, station G is reday for you.\n",
      "Thank you for waiting n, station F is reday for you.\n",
      "Thank you for waiting o, station C is reday for you.\n",
      "Thank you for waiting p, station B is reday for you.\n",
      "Thank you for waiting q, station E is reday for you.\n",
      "Thank you for waiting r, station D is reday for you.\n",
      "Thank you for waiting s, station E is reday for you.\n",
      "Thank you for waiting t, station F is reday for you.\n",
      "Thank you for waiting u, station E is reday for you.\n",
      "Thank you for waiting v, station A is reday for you.\n",
      "Thank you for waiting w, station D is reday for you.\n",
      "Thank you for waiting x, station F is reday for you.\n",
      "Thank you for waiting y, station F is reday for you.\n",
      "Thank you for waiting z, station B is reday for you.\n",
      "Empty visitor queue.\n"
     ]
    }
   ],
   "source": [
    "main()"
   ]
  },
  {
   "cell_type": "code",
   "execution_count": 46,
   "id": "f8875620",
   "metadata": {},
   "outputs": [],
   "source": [
    "def balance_check(s):\n",
    "    if len(s) %2 != 0:\n",
    "        return False\n",
    "    opening = set(\"([{\")\n",
    "    matches = set([(\"(\", \")\"), (\"[\", \"]\"), (\"{\",\"}\")])\n",
    "    stack = Stack()\n",
    "    for paren in s:\n",
    "        if paren in opening:\n",
    "            stack.push(paren)\n",
    "        else:\n",
    "            if stack.is_empty():\n",
    "                return False\n",
    "            last_open = stack.pop()\n",
    "            if(last_open, paren) not in matches:\n",
    "                return False\n",
    "    return stack.is_empty()"
   ]
  },
  {
   "cell_type": "code",
   "execution_count": 47,
   "id": "dd066289",
   "metadata": {},
   "outputs": [
    {
     "data": {
      "text/plain": [
       "True"
      ]
     },
     "execution_count": 47,
     "metadata": {},
     "output_type": "execute_result"
    }
   ],
   "source": [
    "balance_check(\"([{([])}])\")"
   ]
  },
  {
   "cell_type": "code",
   "execution_count": 49,
   "id": "9688f86e",
   "metadata": {},
   "outputs": [
    {
     "data": {
      "text/plain": [
       "False"
      ]
     },
     "execution_count": 49,
     "metadata": {},
     "output_type": "execute_result"
    }
   ],
   "source": [
    "balance_check(\"([{([{[]}]]}])\")"
   ]
  },
  {
   "cell_type": "code",
   "execution_count": 60,
   "id": "58a4c47c",
   "metadata": {},
   "outputs": [],
   "source": [
    "def reverse(str):\n",
    "    if len(str) == 0:\n",
    "        return str\n",
    "    else:\n",
    "        return reverse(str[1:]) + str[0]\n"
   ]
  },
  {
   "cell_type": "code",
   "execution_count": 61,
   "id": "38564923",
   "metadata": {},
   "outputs": [
    {
     "name": "stdout",
     "output_type": "stream",
     "text": [
      "The Given String  is:  BeginnersBook\n",
      "Reversed String is:  kooBsrennigeB\n"
     ]
    }
   ],
   "source": [
    "mystr = \"BeginnersBook\"\n",
    "\n",
    "print(\"The Given String  is: \", mystr)\n",
    "\n",
    "print(\"Reversed String is: \", reverse(mystr))"
   ]
  },
  {
   "cell_type": "code",
   "execution_count": 109,
   "id": "c06ef92b",
   "metadata": {},
   "outputs": [],
   "source": [
    "def fact(n):\n",
    "    input = [1,2,3,4]\n",
    "    \n",
    "    if n == 1:\n",
    "        return 2*3*4\n",
    "    elif n == 2:\n",
    "        return 1*3*4\n",
    "    elif n == 3:\n",
    "        return 1*2*4\n",
    "    elif n == 4:\n",
    "        return 1*2*3\n"
   ]
  },
  {
   "cell_type": "code",
   "execution_count": 110,
   "id": "2d24dafa",
   "metadata": {},
   "outputs": [
    {
     "data": {
      "text/plain": [
       "12"
      ]
     },
     "execution_count": 110,
     "metadata": {},
     "output_type": "execute_result"
    }
   ],
   "source": [
    "fact(2)"
   ]
  },
  {
   "cell_type": "code",
   "execution_count": 93,
   "id": "072c1f57",
   "metadata": {},
   "outputs": [
    {
     "data": {
      "text/plain": [
       "24"
      ]
     },
     "execution_count": 93,
     "metadata": {},
     "output_type": "execute_result"
    }
   ],
   "source": [
    "fact(1)"
   ]
  },
  {
   "cell_type": "code",
   "execution_count": 94,
   "id": "3aecf18f",
   "metadata": {},
   "outputs": [
    {
     "data": {
      "text/plain": [
       "6"
      ]
     },
     "execution_count": 94,
     "metadata": {},
     "output_type": "execute_result"
    }
   ],
   "source": [
    "fact(4)"
   ]
  },
  {
   "cell_type": "code",
   "execution_count": 95,
   "id": "7b9e3133",
   "metadata": {},
   "outputs": [
    {
     "data": {
      "text/plain": [
       "8"
      ]
     },
     "execution_count": 95,
     "metadata": {},
     "output_type": "execute_result"
    }
   ],
   "source": [
    "fact(3)"
   ]
  },
  {
   "cell_type": "code",
   "execution_count": 111,
   "id": "0cd8db75",
   "metadata": {},
   "outputs": [],
   "source": [
    "class Stack:\n",
    "    def __init__(self):\n",
    "        self.items = []\n",
    "\n",
    "    def isEmpty(self):\n",
    "        return self.items == []\n",
    "\n",
    "    def push(self, item):\n",
    "        self.items.insert(0,item)\n",
    "\n",
    "    def pop(self):\n",
    "        return self.items.pop(0)\n",
    "\n",
    "    def peek(self):\n",
    "        return self.items[0]\n",
    "\n",
    "    def size(self):\n",
    "        return len(self.items)\n"
   ]
  },
  {
   "cell_type": "code",
   "execution_count": 115,
   "id": "e1e90450",
   "metadata": {},
   "outputs": [
    {
     "name": "stdout",
     "output_type": "stream",
     "text": [
      "false\n"
     ]
    }
   ],
   "source": [
    "\n",
    "s = Stack()\n",
    "s.push('howdy')\n",
    "s.push('false')\n",
    "print(s.pop())"
   ]
  },
  {
   "cell_type": "code",
   "execution_count": null,
   "id": "fd4d0d88",
   "metadata": {},
   "outputs": [],
   "source": [
    "s = Stack()\n",
    "s.push('howdy')\n",
    "s.push('true')\n",
    "print(s.pop())"
   ]
  },
  {
   "cell_type": "code",
   "execution_count": 113,
   "id": "d9ec52db",
   "metadata": {},
   "outputs": [],
   "source": [
    "class Queue:\n",
    "    def __init__(self):\n",
    "        self.items = []\n",
    "\n",
    "    def isEmpty(self):\n",
    "        return self.items == []\n",
    "\n",
    "    def enqueue(self, item):\n",
    "        self.items.insert(0,item)\n",
    "\n",
    "    def dequeue(self):\n",
    "        return self.items.pop()\n",
    "\n",
    "    def size(self):\n",
    "        return len(self.items)"
   ]
  },
  {
   "cell_type": "code",
   "execution_count": 120,
   "id": "065e0a29",
   "metadata": {},
   "outputs": [
    {
     "name": "stdout",
     "output_type": "stream",
     "text": [
      "3\n"
     ]
    }
   ],
   "source": [
    "\n",
    "q=Queue()\n",
    "\n",
    "q.enqueue(4)\n",
    "q.enqueue('people')\n",
    "q.enqueue(True)\n",
    "print(q.size())"
   ]
  },
  {
   "cell_type": "code",
   "execution_count": 2,
   "id": "a15aa43f",
   "metadata": {},
   "outputs": [
    {
     "name": "stdout",
     "output_type": "stream",
     "text": [
      "Jan\n",
      "Feb\n",
      "Mar\n",
      "Apr\n"
     ]
    }
   ],
   "source": [
    "class Node:\n",
    "    def __init__(self, dataval=None):\n",
    "        self.dataval = dataval\n",
    "        self.nextval = None\n",
    "\n",
    "class SLinkedList:\n",
    "    def __init__(self):\n",
    "        self.headval = None\n",
    "\n",
    "    def listprint(self):\n",
    "        printval = self.headval\n",
    "        while printval is not None:\n",
    "            print (printval.dataval)\n",
    "            printval = printval.nextval\n",
    "\n",
    "list = SLinkedList()\n",
    "list.headval = Node(\"Jan\")\n",
    "e2 = Node(\"Feb\")\n",
    "e3 = Node(\"Mar\")\n",
    "e4 = Node(\"Apr\")\n",
    "\n",
    "# Link first Node to second node\n",
    "list.headval.nextval = e2\n",
    "\n",
    "# Link second Node to third node\n",
    "e2.nextval = e3 \n",
    "\n",
    "# Link third Node to fourth node\n",
    "e3.nextval = e4\n",
    "\n",
    "list.listprint()"
   ]
  },
  {
   "cell_type": "code",
   "execution_count": 31,
   "id": "1086b6ad",
   "metadata": {},
   "outputs": [],
   "source": [
    "class DLL:\n",
    "    def __init__(self):\n",
    "        self.head = None\n",
    "        self.tail = None\n",
    "        self.count = 0\n",
    "         \n",
    "    def __repr__(self):\n",
    "        string = \"\"\n",
    "         \n",
    "        if(self.head == None):\n",
    "            string += \"Doubly Linked List Empty\"\n",
    "            return string\n",
    "         \n",
    "        string += f\"Doubly Linked List:\\n{self.head.data}\"       \n",
    "        start = self.head.next\n",
    "        while(start != None):\n",
    "            string += f\" -> {start.data}\"\n",
    "            start = start.next\n",
    "        return string\n",
    "         \n",
    "    def append(self, data):\n",
    "        if self.head == None:\n",
    "            self.head = Node(data)\n",
    "            self.tail = self.head\n",
    "            self.count += 1\n",
    "            return\n",
    "         \n",
    "        self.tail.next = Node(data)\n",
    "        self.tail.next.previous = self.tail\n",
    "        self.tail = self.tail.next\n",
    "        self.count += 1\n",
    "         "
   ]
  },
  {
   "cell_type": "code",
   "execution_count": 32,
   "id": "cd9f488f",
   "metadata": {},
   "outputs": [],
   "source": [
    "    def insert(self, data, index):\n",
    "        if (index > self.count) | (index < 0):\n",
    "            raise ValueError(f\"Index out of range: {index}, size: {self.count}\")\n",
    "             \n",
    "        if(index == self.count):\n",
    "            self.append(data)\n",
    "            return\n",
    "             \n",
    "        if(index == 0):\n",
    "            self.head.previous = Node(data)\n",
    "            self.head.previous.next = self.head\n",
    "            self.head = self.head.previous\n",
    "            self.count += 1\n",
    "            return\n",
    "         \n",
    "        start = self.head\n",
    "        for _ in range(index):\n",
    "            start = start.next\n",
    "        start.previous.next = Node(data)\n",
    "        start.previous.next.previous = start.previous\n",
    "        start.previous.next.next = start\n",
    "        start.previous = start.previous.next\n",
    "        self.count += 1\n",
    "        return"
   ]
  },
  {
   "cell_type": "code",
   "execution_count": 33,
   "id": "07cadf6c",
   "metadata": {},
   "outputs": [],
   "source": [
    "def remove(self, index):\n",
    "        if (index >= self.count) | (index < 0):\n",
    "            raise ValueError(f\"Index out of range: {index}, size: {self.count}\")\n",
    "         \n",
    "        if index == 0:\n",
    "            self.head = self.head.next\n",
    "            self.head.previous = None\n",
    "            self.count -= 1\n",
    "            return\n",
    "             \n",
    "        if index == (self.count - 1):\n",
    "            self.tail = self.tail.previous\n",
    "            self.tail.next = None\n",
    "            self.count -= 1\n",
    "            return\n",
    "         \n",
    "        start = self.head\n",
    "        for i in range(index):\n",
    "            start = start.next\n",
    "        start.previous.next, start.next.previous = start.next, start.previous\n",
    "        self.count -= 1\n",
    "        return"
   ]
  },
  {
   "cell_type": "code",
   "execution_count": 34,
   "id": "11e9a1be",
   "metadata": {},
   "outputs": [],
   "source": [
    "def index(self, data):\n",
    "        start = self.head\n",
    "        for i in range(self.count):\n",
    "            if(start.data == data):\n",
    "                return i\n",
    "            start = start.next\n",
    "        return None\n",
    "     \n",
    "def size(self):\n",
    "        return self.count\n",
    "     \n",
    "def display(self):\n",
    "        print(self)"
   ]
  },
  {
   "cell_type": "code",
   "execution_count": 36,
   "id": "b271d638",
   "metadata": {},
   "outputs": [
    {
     "name": "stdout",
     "output_type": "stream",
     "text": [
      "Doubly Linked List Empty\n"
     ]
    }
   ],
   "source": [
    "nums = DLL()\n",
    "print(nums)"
   ]
  },
  {
   "cell_type": "code",
   "execution_count": 40,
   "id": "badb724b",
   "metadata": {},
   "outputs": [
    {
     "name": "stdout",
     "output_type": "stream",
     "text": [
      "Doubly Linked List:\n",
      "1 -> 2 -> 3 -> 4 -> 5 -> 1 -> 2 -> 3 -> 4 -> 5 -> 4 -> 1 -> 2 -> 3 -> 4 -> 5 -> 6 -> 1 -> 2 -> 3 -> 4 -> 5\n"
     ]
    }
   ],
   "source": [
    "nums.append(1)\n",
    "nums.append(2)\n",
    "nums.append(3)\n",
    "nums.append(4)\n",
    "nums.append(5)\n",
    "print(nums)"
   ]
  },
  {
   "cell_type": "code",
   "execution_count": null,
   "id": "efa120a3",
   "metadata": {},
   "outputs": [],
   "source": []
  }
 ],
 "metadata": {
  "kernelspec": {
   "display_name": "Python 3",
   "language": "python",
   "name": "python3"
  },
  "language_info": {
   "codemirror_mode": {
    "name": "ipython",
    "version": 3
   },
   "file_extension": ".py",
   "mimetype": "text/x-python",
   "name": "python",
   "nbconvert_exporter": "python",
   "pygments_lexer": "ipython3",
   "version": "3.8.5"
  }
 },
 "nbformat": 4,
 "nbformat_minor": 5
}
